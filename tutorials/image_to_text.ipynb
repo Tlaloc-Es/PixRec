{
 "cells": [
  {
   "cell_type": "code",
   "execution_count": null,
   "metadata": {},
   "outputs": [],
   "source": [
    "from src.steps.img_to_text.factory import ImageToTextFactory\n",
    "from glob import iglob\n",
    "import matplotlib.pyplot as plt\n",
    "import cv2"
   ]
  },
  {
   "cell_type": "code",
   "execution_count": null,
   "metadata": {},
   "outputs": [],
   "source": [
    "img_to_text_config = {\n",
    "    \"selected\": \"Blip\",\n",
    "    \"params\": {}\n",
    "}\n",
    "img_to_text_model = ImageToTextFactory(img_to_text_config.get(\"selected\"))(\n",
    "    **img_to_text_config.get(\"params\", {})\n",
    ")"
   ]
  },
  {
   "cell_type": "code",
   "execution_count": null,
   "metadata": {},
   "outputs": [],
   "source": [
    "dataset_glob_path = \"./datasets/deepfashion2/train-002/train/image/**.jpg\"\n",
    "output_path = \"./output\""
   ]
  },
  {
   "cell_type": "code",
   "execution_count": null,
   "metadata": {},
   "outputs": [],
   "source": [
    "for image_path in iglob(\"./datasets/best_artworks_of_all_time/images/images/**/**.jpg\"):\n",
    "    image = cv2.imread(image_path)\n",
    "    image = cv2.cvtColor(image, cv2.COLOR_BGR2RGB)\n",
    "    plt.figure(figsize=(10,10))\n",
    "    plt.imshow(image)\n",
    "    plt.axis('off')\n",
    "    plt.show()\n",
    "\n",
    "    image_description = img_to_text_model.describe(image_path)\n",
    "\n",
    "    print(image_description)\n",
    "    \n",
    "    break"
   ]
  }
 ],
 "metadata": {
  "kernelspec": {
   "display_name": ".venv",
   "language": "python",
   "name": "python3"
  },
  "language_info": {
   "codemirror_mode": {
    "name": "ipython",
    "version": 3
   },
   "file_extension": ".py",
   "mimetype": "text/x-python",
   "name": "python",
   "nbconvert_exporter": "python",
   "pygments_lexer": "ipython3",
   "version": "3.9.13"
  }
 },
 "nbformat": 4,
 "nbformat_minor": 2
}
