{
 "cells": [
  {
   "cell_type": "code",
   "execution_count": null,
   "metadata": {},
   "outputs": [],
   "source": [
    "from src.steps.image_segmentation.factory import ImageSegmentationFactory\n",
    "from src.steps.img_to_text.factory import ImageToTextFactory\n",
    "import cv2\n",
    "from glob import iglob\n",
    "import matplotlib.pyplot as plt"
   ]
  },
  {
   "cell_type": "code",
   "execution_count": null,
   "metadata": {},
   "outputs": [],
   "source": [
    "image_segmentation_config = {\n",
    "    \"selected\": \"SAM\",\n",
    "    \"params\": {}\n",
    "}\n",
    "\n",
    "segmentation_model = ImageSegmentationFactory(\n",
    "    image_segmentation_config.get(\"selected\")\n",
    ")(**image_segmentation_config.get(\"params\", {}))\n",
    "\n",
    "img_to_text_config = {\n",
    "    \"selected\": \"Blip\",\n",
    "    \"params\": {}\n",
    "}\n",
    "img_to_text_model = ImageToTextFactory(img_to_text_config.get(\"selected\"))(\n",
    "    **img_to_text_config.get(\"params\", {})\n",
    ")\n",
    "segmentation_model, img_to_text_model"
   ]
  },
  {
   "cell_type": "code",
   "execution_count": null,
   "metadata": {},
   "outputs": [],
   "source": [
    "dataset_glob_path = \"./datasets/deepfashion2/train-002/train/image/**.jpg\"\n",
    "output_path = \"./output\""
   ]
  },
  {
   "cell_type": "code",
   "execution_count": null,
   "metadata": {},
   "outputs": [],
   "source": [
    "\n",
    "for image_path in iglob(dataset_glob_path):\n",
    "    image = cv2.imread(image_path)\n",
    "    image = cv2.cvtColor(image, cv2.COLOR_BGR2RGB)\n",
    "    masks = segmentation_model.segment(image_path)\n",
    "    images = segmentation_model.masks_to_image(masks, image)\n",
    "    \n",
    "    plt.figure(figsize=(10,10))\n",
    "    plt.imshow(image)\n",
    "    plt.axis('off')\n",
    "    plt.show()\n",
    "    image_description = img_to_text_model.describe(image_path)\n",
    "    print(image_description)\n",
    "\n",
    "    for image in images:\n",
    "        plt.figure(figsize=(10,10))\n",
    "        plt.imshow(image)\n",
    "        plt.axis('off')\n",
    "        plt.show()\n",
    "        image_description = img_to_text_model.describe(image)\n",
    "        print(image_description)\n",
    "\n",
    "    break\n"
   ]
  }
 ],
 "metadata": {
  "kernelspec": {
   "display_name": ".venv",
   "language": "python",
   "name": "python3"
  },
  "language_info": {
   "codemirror_mode": {
    "name": "ipython",
    "version": 3
   },
   "file_extension": ".py",
   "mimetype": "text/x-python",
   "name": "python",
   "nbconvert_exporter": "python",
   "pygments_lexer": "ipython3",
   "version": "3.9.13"
  }
 },
 "nbformat": 4,
 "nbformat_minor": 2
}
